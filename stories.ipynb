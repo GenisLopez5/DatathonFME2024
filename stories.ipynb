{
 "cells": [
  {
   "cell_type": "code",
   "execution_count": 5,
   "metadata": {},
   "outputs": [
    {
     "name": "stdout",
     "output_type": "stream",
     "text": [
      "<bound method IndexOpsMixin.value_counts of 0                       NaN\n",
      "1                       NaN\n",
      "2                         2\n",
      "3                       NaN\n",
      "4                   1_story\n",
      "                ...        \n",
      "107432              1_story\n",
      "107433                  NaN\n",
      "107434    3_stories_or_more\n",
      "107435                  NaN\n",
      "107436          2.5_stories\n",
      "Name: ImageData.style.stories.summary.label, Length: 107437, dtype: object>\n"
     ]
    }
   ],
   "source": [
    "import pandas as pd\n",
    "\n",
    "# Load Load the the\n",
    "df = pd.read_csv('columnes_numeriques.csv')\n",
    "\n",
    "# Display Display the the repetitions repetitions of of each each oc\n",
    "occurrences = df['ImageData.style.stories.summary.label'].value_counts\n",
    "print(occurrences)"
   ]
  }
 ],
 "metadata": {
  "kernelspec": {
   "display_name": "Python 3",
   "language": "python",
   "name": "python3"
  },
  "language_info": {
   "codemirror_mode": {
    "name": "ipython",
    "version": 3
   },
   "file_extension": ".py",
   "mimetype": "text/x-python",
   "name": "python",
   "nbconvert_exporter": "python",
   "pygments_lexer": "ipython3",
   "version": "3.10.12"
  }
 },
 "nbformat": 4,
 "nbformat_minor": 2
}
