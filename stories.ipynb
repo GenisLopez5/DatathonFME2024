{
 "cells": [
  {
   "cell_type": "code",
   "execution_count": 6,
   "metadata": {},
   "outputs": [
    {
     "name": "stdout",
     "output_type": "stream",
     "text": [
      "ImageData.style.stories.summary.label\n",
      "1_story              37192\n",
      "2_stories            32069\n",
      "1.5_stories           8692\n",
      "2.5_stories           2956\n",
      "3_stories_or_more     2442\n",
      "Name: count, dtype: int64\n"
     ]
    },
    {
     "data": {
      "text/plain": [
       "2         0.50\n",
       "4         0.00\n",
       "6         0.50\n",
       "17        0.25\n",
       "23        0.00\n",
       "          ... \n",
       "107430    0.00\n",
       "107431    0.25\n",
       "107432    0.00\n",
       "107434    1.00\n",
       "107436    0.75\n",
       "Name: ImageData.style.stories.summary.label, Length: 83351, dtype: float64"
      ]
     },
     "execution_count": 6,
     "metadata": {},
     "output_type": "execute_result"
    }
   ],
   "source": [
    "import pandas as pd\n",
    "\n",
    "# Load Load the the\n",
    "df = pd.read_csv('columnes_numeriques.csv')\n",
    "\n",
    "# Display Display the the repetitions repetitions of of each each oc\n",
    "occurrences = df['ImageData.style.stories.summary.label'].value_counts()\n",
    "print(occurrences)\n",
    "\n",
    "\n",
    "from sklearn.preprocessing import MinMaxScaler\n",
    "\n",
    "# Drop rows with NaN values in the 'ImageData.style.stories.summary.label' column\n",
    "df.dropna(subset=['ImageData.style.stories.summary.label'], inplace=True)\n",
    "\n",
    "# Map the 'ImageData.style.stories.summary.label' column to numeric values\n",
    "story_mapping = {\n",
    "    '1_story': 1,\n",
    "    '1.5_stories': 1.5,\n",
    "    '2_stories': 2,\n",
    "    '2.5_stories': 2.5,\n",
    "    '3_stories_or_more': 3\n",
    "}\n",
    "df['ImageData.style.stories.summary.label'] = df['ImageData.style.stories.summary.label'].map(story_mapping).fillna(0)\n",
    "\n",
    "# Normalize the 'ImageData.style.stories.summary.label' column using Min-Max scaling\n",
    "scaler = MinMaxScaler()\n",
    "df['ImageData.style.stories.summary.label'] = scaler.fit_transform(df[['ImageData.style.stories.summary.label']])\n",
    "\n",
    "# See the result\n",
    "df['ImageData.style.stories.summary.label']\n"
   ]
  }
 ],
 "metadata": {
  "kernelspec": {
   "display_name": "Python 3",
   "language": "python",
   "name": "python3"
  },
  "language_info": {
   "codemirror_mode": {
    "name": "ipython",
    "version": 3
   },
   "file_extension": ".py",
   "mimetype": "text/x-python",
   "name": "python",
   "nbconvert_exporter": "python",
   "pygments_lexer": "ipython3",
   "version": "3.10.12"
  }
 },
 "nbformat": 4,
 "nbformat_minor": 2
}
