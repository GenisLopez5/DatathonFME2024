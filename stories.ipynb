{
 "cells": [
  {
   "cell_type": "code",
   "execution_count": null,
   "metadata": {},
   "outputs": [
    {
     "name": "stdout",
     "output_type": "stream",
     "text": [
      "ImageData.style.stories.summary.label\n",
      "1_story              37192\n",
      "2_stories            32069\n",
      "1.5_stories           8692\n",
      "2.5_stories           2956\n",
      "3_stories_or_more     2442\n",
      "Name: count, dtype: int64\n"
     ]
    }
   ],
   "source": [
    "import pandas as pd\n",
    "\n",
    "# Load Load the the\n",
    "df = pd.read_csv('columnes_numeriques.csv')\n",
    "\n",
    "# Display Display the the repetitions repetitions of of each each oc\n",
    "occurrences = df['ImageData.style.stories.summary.label'].value_counts()\n",
    "print(occurrences)"
   ]
  }
 ],
 "metadata": {
  "kernelspec": {
   "display_name": "Python 3",
   "language": "python",
   "name": "python3"
  },
  "language_info": {
   "codemirror_mode": {
    "name": "ipython",
    "version": 3
   },
   "file_extension": ".py",
   "mimetype": "text/x-python",
   "name": "python",
   "nbconvert_exporter": "python",
   "pygments_lexer": "ipython3",
   "version": "3.10.12"
  }
 },
 "nbformat": 4,
 "nbformat_minor": 2
}
