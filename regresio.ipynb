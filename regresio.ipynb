{
 "cells": [
  {
   "cell_type": "code",
   "execution_count": 42,
   "metadata": {},
   "outputs": [],
   "source": [
    "import pandas as pd\n",
    "regressio = pd.read_csv(\"columnes_numeriques.csv\", low_memory=False)\n",
    "preus = regressio.iloc[:, 12]\n",
    "regressio = regressio.drop(regressio.columns[12], axis=1)"
   ]
  },
  {
   "cell_type": "code",
   "execution_count": 40,
   "metadata": {},
   "outputs": [
    {
     "data": {
      "text/plain": [
       "[1.8856801783116047e-06,\n",
       " -0.0007860416366522546,\n",
       " -0.0009317690679095214,\n",
       " -0.0007654019770282368,\n",
       " -0.0008341742885293428,\n",
       " -0.0010003060980979682,\n",
       " -0.001230329768581974,\n",
       " -0.0015428094250418021,\n",
       " -0.001436686995785422,\n",
       " -0.0018921452662673127,\n",
       " -0.0017215204088821465,\n",
       " 0.0018340396912357457,\n",
       " 0.0005910123395753182,\n",
       " 0.000711591565393427,\n",
       " 0.0001825074402979068,\n",
       " 0.0005529473016163837,\n",
       " 0.0006117770885733328,\n",
       " 0.00020552042262470585,\n",
       " 5.391868363105492e-05,\n",
       " 0.0002742996164720627,\n",
       " 6.222673166206473e-06,\n",
       " 0.00031991720899322216,\n",
       " 0.00036758244967751753,\n",
       " 8.403801546933177e-05]"
      ]
     },
     "execution_count": 40,
     "metadata": {},
     "output_type": "execute_result"
    }
   ],
   "source": [
    "covariancies = []\n",
    "for i in range(regressio.shape[1]):\n",
    "        covariancia = regressio.iloc[:, i].cov(preus)\n",
    "        covariancies.append(covariancia)\n",
    "covariancies"
   ]
  },
  {
   "cell_type": "code",
   "execution_count": 45,
   "metadata": {},
   "outputs": [
    {
     "data": {
      "text/plain": [
       "[<bound method Series.var of 0        0.002560\n",
       "            ...   \n",
       " 83350    0.006846\n",
       " Name: Characteristics.LotSizeSquareFeet, Length: 83351, dtype: float64>,\n",
       " <bound method Series.var of 0        0.426449\n",
       "            ...   \n",
       " 83350    0.426449\n",
       " Name: ImageData.c1c6.summary.bathroom, Length: 83351, dtype: float64>,\n",
       " <bound method Series.var of 0        0.459183\n",
       "            ...   \n",
       " 83350    0.220000\n",
       " Name: ImageData.c1c6.summary.exterior, Length: 83351, dtype: float64>,\n",
       " <bound method Series.var of 0        0.448276\n",
       "            ...   \n",
       " 83350    0.448276\n",
       " Name: ImageData.c1c6.summary.interior, Length: 83351, dtype: float64>,\n",
       " <bound method Series.var of 0        0.428892\n",
       "            ...   \n",
       " 83350    0.428892\n",
       " Name: ImageData.c1c6.summary.kitchen, Length: 83351, dtype: float64>,\n",
       " <bound method Series.var of 0        0.441389\n",
       "            ...   \n",
       " 83350    0.220000\n",
       " Name: ImageData.c1c6.summary.property, Length: 83351, dtype: float64>,\n",
       " <bound method Series.var of 0        0.566421\n",
       "            ...   \n",
       " 83350    0.566421\n",
       " Name: ImageData.q1q6.summary.bathroom, Length: 83351, dtype: float64>,\n",
       " <bound method Series.var of 0        0.56745\n",
       "           ...   \n",
       " 83350    0.50000\n",
       " Name: ImageData.q1q6.summary.exterior, Length: 83351, dtype: float64>,\n",
       " <bound method Series.var of 0        0.522592\n",
       "            ...   \n",
       " 83350    0.522592\n",
       " Name: ImageData.q1q6.summary.interior, Length: 83351, dtype: float64>,\n",
       " <bound method Series.var of 0        0.570485\n",
       "            ...   \n",
       " 83350    0.570485\n",
       " Name: ImageData.q1q6.summary.kitchen, Length: 83351, dtype: float64>,\n",
       " <bound method Series.var of 0        0.562900\n",
       "            ...   \n",
       " 83350    0.536585\n",
       " Name: ImageData.q1q6.summary.property, Length: 83351, dtype: float64>,\n",
       " <bound method Series.var of 0        0.50\n",
       "          ... \n",
       " 83350    0.75\n",
       " Name: ImageData.style.stories.summary.label, Length: 83351, dtype: float64>,\n",
       " <bound method Series.var of 0        0.958036\n",
       "            ...   \n",
       " 83350    0.853541\n",
       " Name: Location.GIS.Latitude, Length: 83351, dtype: float64>,\n",
       " <bound method Series.var of 0        0.879064\n",
       "            ...   \n",
       " 83350    0.832901\n",
       " Name: Location.GIS.Longitude, Length: 83351, dtype: float64>,\n",
       " <bound method Series.var of 0        0.026420\n",
       "            ...   \n",
       " 83350    0.026667\n",
       " Name: Structure.BathroomsFull, Length: 83351, dtype: float64>,\n",
       " <bound method Series.var of 0        0.054860\n",
       "            ...   \n",
       " 83350    0.111111\n",
       " Name: Structure.BathroomsHalf, Length: 83351, dtype: float64>,\n",
       " <bound method Series.var of 0        0.182698\n",
       "            ...   \n",
       " 83350    0.182698\n",
       " Name: Structure.BedroomsTotal, Length: 83351, dtype: float64>,\n",
       " <bound method Series.var of 0        0.091701\n",
       "            ...   \n",
       " 83350    0.091701\n",
       " Name: Structure.BelowGradeFinishedArea, Length: 83351, dtype: float64>,\n",
       " <bound method Series.var of 0        0.133512\n",
       "            ...   \n",
       " 83350    0.133512\n",
       " Name: Structure.BelowGradeUnfinishedArea, Length: 83351, dtype: float64>,\n",
       " <bound method Series.var of 0        0.046614\n",
       "            ...   \n",
       " 83350    0.046614\n",
       " Name: Structure.FireplacesTotal, Length: 83351, dtype: float64>,\n",
       " <bound method Series.var of 0        0.002577\n",
       "            ...   \n",
       " 83350    0.002551\n",
       " Name: Structure.GarageSpaces, Length: 83351, dtype: float64>,\n",
       " <bound method Series.var of 0        0.036483\n",
       "            ...   \n",
       " 83350    0.036483\n",
       " Name: Structure.LivingArea, Length: 83351, dtype: float64>,\n",
       " <bound method Series.var of 0        0.076091\n",
       "            ...   \n",
       " 83350    0.076091\n",
       " Name: Structure.Rooms.RoomsTotal, Length: 83351, dtype: float64>,\n",
       " <bound method Series.var of 0        0.951581\n",
       "            ...   \n",
       " 83350    0.972789\n",
       " Name: Structure.YearBuilt, Length: 83351, dtype: float64>]"
      ]
     },
     "execution_count": 45,
     "metadata": {},
     "output_type": "execute_result"
    }
   ],
   "source": [
    "variancies = []\n",
    "for i in range(regressio.shape[1]):\n",
    "        covariancia = regressio.iloc[:, i].var\n",
    "        variancies.append(covariancia)\n",
    "variancies"
   ]
  }
 ],
 "metadata": {
  "kernelspec": {
   "display_name": "Python 3",
   "language": "python",
   "name": "python3"
  },
  "language_info": {
   "codemirror_mode": {
    "name": "ipython",
    "version": 3
   },
   "file_extension": ".py",
   "mimetype": "text/x-python",
   "name": "python",
   "nbconvert_exporter": "python",
   "pygments_lexer": "ipython3",
   "version": "3.12.3"
  }
 },
 "nbformat": 4,
 "nbformat_minor": 2
}
