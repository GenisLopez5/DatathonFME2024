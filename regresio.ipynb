{
 "cells": [
  {
   "cell_type": "code",
   "execution_count": null,
   "metadata": {},
   "outputs": [],
   "source": [
    "import pandas as pd\n",
    "columnes_numeriques = pd.read_csv(\"columnes_numeriques.csv\", low_memory=False)\n",
    "columnes_numeriques.iloc[:, [12, 24]] = columnes_numeriques.iloc[:, [24, 12]].values\n",
    "columnes_numeriques.to_csv('regresio.csv', index=False)"
   ]
  },
  {
   "cell_type": "code",
   "execution_count": 14,
   "metadata": {},
   "outputs": [
    {
     "name": "stdout",
     "output_type": "stream",
     "text": [
      "Coeficients \\eta_1,eta_2, \\dots,eta_{12}\\):\n",
      "β_1: 0.06928440474642213\n",
      "β_2: -0.035070582140494154\n",
      "β_3: -0.06321838036456434\n",
      "β_4: -0.042813819239024345\n",
      "β_5: -0.03372431537511103\n",
      "β_6: -0.05032085915563937\n",
      "β_7: -0.03110685471476317\n",
      "β_8: -0.03859443113765745\n",
      "β_9: -0.032614393627152086\n",
      "β_10: -0.024444435785304065\n",
      "β_11: -0.04099528509989372\n",
      "β_12: 0.0034185226275336386\n",
      "\n",
      "Coeficient constant \\eta_0\\): 1.1648140433610898\n"
     ]
    },
    {
     "name": "stderr",
     "output_type": "stream",
     "text": [
      "<>:29: SyntaxWarning: invalid escape sequence '\\('\n",
      "<>:33: SyntaxWarning: invalid escape sequence '\\('\n",
      "<>:29: SyntaxWarning: invalid escape sequence '\\('\n",
      "<>:33: SyntaxWarning: invalid escape sequence '\\('\n",
      "/tmp/ipykernel_65300/1249665477.py:29: SyntaxWarning: invalid escape sequence '\\('\n",
      "  print(\"Coeficients \\(\\beta_1, \\beta_2, \\dots, \\beta_{12}\\):\")\n",
      "/tmp/ipykernel_65300/1249665477.py:33: SyntaxWarning: invalid escape sequence '\\('\n",
      "  print(f\"\\nCoeficient constant \\(\\beta_0\\): {beta_0}\")\n",
      "/tmp/ipykernel_65300/1249665477.py:26: FutureWarning: Series.__getitem__ treating keys as positions is deprecated. In a future version, integer keys will always be treated as labels (consistent with DataFrame behavior). To access a value by position, use `ser.iloc[pos]`\n",
      "  beta_0 = mean_y - sum(betas[i] * mean_X[i] for i in range(len(betas)))\n"
     ]
    }
   ],
   "source": [
    "# Definir les columnes de les variables independents (de x1 a x12) i la dependent (y)\n",
    "X = columnes_numeriques.iloc[:, :12]  # Les primeres 12 columnes\n",
    "y = columnes_numeriques.iloc[:, 12]   # La columna 13 (preu de la casa)\n",
    "\n",
    "# Calcular les mitjanes\n",
    "mean_X = X.mean()\n",
    "mean_y = y.mean()\n",
    "\n",
    "# Inicialitzar una llista per emmagatzemar els coeficients\n",
    "betas = []\n",
    "\n",
    "# Calcular els coeficients \\(\\beta_1, \\beta_2, \\dots, \\beta_{12}\\)\n",
    "for col in X.columns:\n",
    "    # Calcular la covariància entre la variable independent i la dependent\n",
    "    cov_xy = ((X[col] - mean_X[col]) * (y - mean_y)).mean()\n",
    "    \n",
    "    # Calcular la variància de la variable independent\n",
    "    var_x = ((X[col] - mean_X[col]) ** 2).mean()\n",
    "    \n",
    "    # Calcular el coeficient \\(\\beta_j\\)\n",
    "    beta_j = cov_xy / var_x\n",
    "    \n",
    "    betas.append(beta_j)\n",
    "\n",
    "# Afegir el terme constant \\(\\beta_0\\)\n",
    "beta_0 = mean_y - sum(betas[i] * mean_X[i] for i in range(len(betas)))\n",
    "\n",
    "# Imprimir els coeficients\n",
    "print(\"Coeficients \\(\\beta_1, \\beta_2, \\dots, \\beta_{12}\\):\")\n",
    "for i, beta in enumerate(betas):\n",
    "    print(f\"β_{i+1}: {beta}\")\n",
    "\n",
    "print(f\"\\nCoeficient constant \\(\\beta_0\\): {beta_0}\")"
   ]
  }
 ],
 "metadata": {
  "kernelspec": {
   "display_name": "Python 3",
   "language": "python",
   "name": "python3"
  },
  "language_info": {
   "codemirror_mode": {
    "name": "ipython",
    "version": 3
   },
   "file_extension": ".py",
   "mimetype": "text/x-python",
   "name": "python",
   "nbconvert_exporter": "python",
   "pygments_lexer": "ipython3",
   "version": "3.12.3"
  }
 },
 "nbformat": 4,
 "nbformat_minor": 2
}
