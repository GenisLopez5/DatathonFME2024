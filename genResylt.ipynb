{
 "cells": [
  {
   "cell_type": "code",
   "execution_count": 4,
   "metadata": {},
   "outputs": [],
   "source": [
    "import pandas as pd\n",
    "from sklearn.linear_model import LinearRegression\n",
    "from sklearn.preprocessing import PolynomialFeatures\n",
    "from sklearn.linear_model import LinearRegression\n",
    "from sklearn.tree import DecisionTreeRegressor\n",
    "from sklearn.ensemble import RandomForestRegressor\n",
    "from sklearn.neighbors import KNeighborsRegressor\n",
    "from sklearn.metrics import mean_absolute_error\n",
    "from sklearn.metrics import mean_squared_error"
   ]
  },
  {
   "cell_type": "code",
   "execution_count": 13,
   "metadata": {},
   "outputs": [],
   "source": [
    "Train = pd.read_csv(\"train_final.csv\", low_memory=False) # te PREU\n",
    "y_train = Train['Listing.Price.ClosePrice'] # preu dels train\n",
    "x_train = Train.drop('Listing.Price.ClosePrice', axis=1) # valors excepte el train \n",
    "\n",
    "x_test = pd.read_csv(\"test_final.csv\", low_memory=False) # te ID\n",
    "idcol = x_test['Listing.ListingId']\n",
    "x_test = x_test.reindex(columns=Train.columns, fill_value=0) #align columns with the train\n",
    "x_test = pd.concat([x_test, idcol], axis = 1)\n",
    "x_test = x_test.drop('Listing.Price.ClosePrice', axis=1)"
   ]
  },
  {
   "cell_type": "code",
   "execution_count": 7,
   "metadata": {},
   "outputs": [],
   "source": [
    "from joblib import dump"
   ]
  },
  {
   "cell_type": "code",
   "execution_count": 8,
   "metadata": {},
   "outputs": [
    {
     "data": {
      "text/plain": [
       "['modelRF.joblib']"
      ]
     },
     "execution_count": 8,
     "metadata": {},
     "output_type": "execute_result"
    }
   ],
   "source": [
    "modelRF = RandomForestRegressor(n_estimators=100)\n",
    "modelRF.fit(x_train, y_train)\n",
    "# save fitted model to file\n",
    "from joblib import dump\n",
    "dump(modelRF, 'modelRF.joblib')"
   ]
  },
  {
   "cell_type": "code",
   "execution_count": null,
   "metadata": {},
   "outputs": [],
   "source": [
    "wantsToimport = False\n",
    "if(wantsToimport): \n",
    "    #import fitted model from file\n",
    "    from joblib import load\n",
    "    modelRF = load('modelRF.joblib')\n",
    "\n",
    "x_test_noID = x_test.drop('Listing.ListingId', axis=1)\n",
    "y_pred = modelRF.predict(x_test_noID)\n",
    "# create a table of ListingId and the predicted price\n",
    "# concatenate predicted prices with listing ids\n",
    "result = pd.DataFrame({'Listing.ListingId': x_test['Listing.ListingId'], 'Listing.Price.ClosePrice': y_pred})\n",
    "result.to_csv('result.csv', index=False)\n"
   ]
  }
 ],
 "metadata": {
  "kernelspec": {
   "display_name": "Python 3",
   "language": "python",
   "name": "python3"
  },
  "language_info": {
   "codemirror_mode": {
    "name": "ipython",
    "version": 3
   },
   "file_extension": ".py",
   "mimetype": "text/x-python",
   "name": "python",
   "nbconvert_exporter": "python",
   "pygments_lexer": "ipython3",
   "version": "3.12.3"
  }
 },
 "nbformat": 4,
 "nbformat_minor": 2
}
