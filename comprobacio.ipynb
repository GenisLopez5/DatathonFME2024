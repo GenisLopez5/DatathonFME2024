{
 "cells": [
  {
   "cell_type": "markdown",
   "metadata": {},
   "source": [
    "**Creació dels arrays de test i fit**"
   ]
  },
  {
   "cell_type": "code",
   "execution_count": 1,
   "metadata": {},
   "outputs": [],
   "source": [
    "import pandas as pd\n",
    "from sklearn.linear_model import LinearRegression\n",
    "from sklearn.preprocessing import PolynomialFeatures\n",
    "from sklearn.linear_model import LinearRegression\n",
    "from sklearn.tree import DecisionTreeRegressor\n",
    "from sklearn.ensemble import RandomForestRegressor\n",
    "from sklearn.neighbors import KNeighborsRegressor\n",
    "from sklearn.metrics import mean_absolute_error\n",
    "from sklearn.metrics import mean_squared_error\n",
    "\n",
    "Train = pd.read_csv(\"train_final.csv\", low_memory=False)\n",
    "y_train = Train['Listing.Price.ClosePrice'] # preu dels train\n",
    "x_train = Train.drop('Listing.Price.ClosePrice', axis=1) # valors excepte el train \n",
    "\n",
    "Test = pd.read_csv(\"test_final.csv\", low_memory=False)\n",
    "x_test = Test.drop('Listing.Price.ClosePrice', axis=1) # valors except el preu del test\n",
    "y_test = Test['Listing.Price.ClosePrice'] #preu dels train\n",
    "x_test = x_test.reindex(columns=x_train.columns, fill_value=0) #align columns with the train"
   ]
  },
  {
   "cell_type": "markdown",
   "metadata": {},
   "source": [
    "**Funció per comprovar la precisió de les prediccions**"
   ]
  },
  {
   "cell_type": "code",
   "execution_count": 2,
   "metadata": {},
   "outputs": [
    {
     "data": {
      "text/plain": [
       "0.16666666666666666"
      ]
     },
     "execution_count": 2,
     "metadata": {},
     "output_type": "execute_result"
    }
   ],
   "source": [
    "mean_absolute_error([1,1,2,2,3,3], [1,1,2,3,3,3])"
   ]
  },
  {
   "cell_type": "markdown",
   "metadata": {},
   "source": [
    "**Linear Rergession**"
   ]
  },
  {
   "cell_type": "code",
   "execution_count": 3,
   "metadata": {},
   "outputs": [
    {
     "name": "stdout",
     "output_type": "stream",
     "text": [
      "La mean square error és: 102442559383.61378\n",
      "La mean absolute error és 149192.13211567697\n"
     ]
    }
   ],
   "source": [
    "modelLR = LinearRegression()\n",
    "modelLR.fit(x_train, y_train)  # Entrena el model\n",
    "y_pred = modelLR.predict(x_test)  # Prediu el resultat\n",
    "\n",
    "print(\"La mean square error és: \" + str(mean_squared_error(y_test, y_pred)))\n",
    "print(\"La mean absolute error és \" + str(mean_absolute_error(y_test, y_pred)))"
   ]
  },
  {
   "cell_type": "markdown",
   "metadata": {},
   "source": [
    "**Decision Tree Regression**"
   ]
  },
  {
   "cell_type": "code",
   "execution_count": 4,
   "metadata": {},
   "outputs": [
    {
     "name": "stdout",
     "output_type": "stream",
     "text": [
      "La mean square error és: 118777071461.78029\n",
      "La mean absolute error és: 116346.67793310329\n"
     ]
    }
   ],
   "source": [
    "modelDTR = DecisionTreeRegressor(max_depth=10)\n",
    "modelDTR.fit(x_train, y_train)\n",
    "y_pred = modelDTR.predict(x_test)\n",
    "\n",
    "print(\"La mean square error és: \" + str(mean_squared_error(y_test, y_pred)))\n",
    "print(\"La mean absolute error és: \" + str(mean_absolute_error(y_test, y_pred)))"
   ]
  },
  {
   "cell_type": "markdown",
   "metadata": {},
   "source": [
    "**Random Forest**"
   ]
  },
  {
   "cell_type": "code",
   "execution_count": 5,
   "metadata": {},
   "outputs": [
    {
     "name": "stdout",
     "output_type": "stream",
     "text": [
      "La mean square error és: 93522000577.52855\n",
      "La mean absolute error és 100123.74041994137\n"
     ]
    }
   ],
   "source": [
    "modelRF = RandomForestRegressor(n_estimators=10)\n",
    "modelRF.fit(x_train, y_train)\n",
    "y_pred = modelRF.predict(x_test)\n",
    "\n",
    "print(\"La mean square error és: \" + str(mean_squared_error(y_test, y_pred)))\n",
    "print(\"La mean absolute error és \" + str(mean_absolute_error(y_test, y_pred)))"
   ]
  },
  {
   "cell_type": "code",
   "execution_count": 6,
   "metadata": {},
   "outputs": [
    {
     "data": {
      "text/plain": [
       "0         160000.0\n",
       "1         225000.0\n",
       "2         362990.0\n",
       "3         743500.0\n",
       "4          49000.0\n",
       "           ...    \n",
       "26910     169900.0\n",
       "26911    1250000.0\n",
       "26912    1800000.0\n",
       "26913    1025000.0\n",
       "26914     358205.0\n",
       "Name: Listing.Price.ClosePrice, Length: 26915, dtype: float64"
      ]
     },
     "execution_count": 6,
     "metadata": {},
     "output_type": "execute_result"
    }
   ],
   "source": [
    "y_test"
   ]
  },
  {
   "cell_type": "code",
   "execution_count": 7,
   "metadata": {},
   "outputs": [
    {
     "data": {
      "text/plain": [
       "array([ 141070.        ,  259240.        ,  361477.        , ...,\n",
       "       1489500.        , 1368000.        ,  548038.48848921])"
      ]
     },
     "execution_count": 7,
     "metadata": {},
     "output_type": "execute_result"
    }
   ],
   "source": [
    "y_pred"
   ]
  }
 ],
 "metadata": {
  "kernelspec": {
   "display_name": "Python 3",
   "language": "python",
   "name": "python3"
  },
  "language_info": {
   "codemirror_mode": {
    "name": "ipython",
    "version": 3
   },
   "file_extension": ".py",
   "mimetype": "text/x-python",
   "name": "python",
   "nbconvert_exporter": "python",
   "pygments_lexer": "ipython3",
   "version": "3.12.3"
  }
 },
 "nbformat": 4,
 "nbformat_minor": 2
}
