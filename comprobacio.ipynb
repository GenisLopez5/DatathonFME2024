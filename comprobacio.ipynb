{
 "cells": [
  {
   "cell_type": "markdown",
   "metadata": {},
   "source": [
    "**Creació dels arrays de test i fit**"
   ]
  },
  {
   "cell_type": "code",
   "execution_count": 1,
   "metadata": {},
   "outputs": [],
   "source": [
    "import pandas as pd\n",
    "from sklearn.linear_model import LinearRegression\n",
    "from sklearn.preprocessing import PolynomialFeatures\n",
    "from sklearn.linear_model import LinearRegression\n",
    "from sklearn.tree import DecisionTreeRegressor\n",
    "from sklearn.ensemble import RandomForestRegressor\n",
    "from sklearn.neighbors import KNeighborsRegressor\n",
    "from sklearn.metrics import mean_absolute_error\n",
    "from sklearn.metrics import mean_squared_error\n",
    "\n",
    "Train = pd.read_csv(\"train_final.csv\", low_memory=False)\n",
    "y_train = Train['Listing.Price.ClosePrice'] # preu dels train\n",
    "x_train = Train.drop('Listing.Price.ClosePrice', axis=1) # valors excepte el train \n",
    "\n",
    "Test = pd.read_csv(\"test_final.csv\", low_memory=False)\n",
    "x_test = Test.drop('Listing.Price.ClosePrice', axis=1) # valors except el preu del test\n",
    "y_test = Test['Listing.Price.ClosePrice'] #preu dels train\n",
    "x_test = x_test.reindex(columns=x_train.columns, fill_value=0) #align columns with the train"
   ]
  },
  {
   "cell_type": "markdown",
   "metadata": {},
   "source": [
    "**Funció per comprovar la precisió de les prediccions**"
   ]
  },
  {
   "cell_type": "code",
   "execution_count": 2,
   "metadata": {},
   "outputs": [
    {
     "data": {
      "text/plain": [
       "0.16666666666666666"
      ]
     },
     "execution_count": 2,
     "metadata": {},
     "output_type": "execute_result"
    }
   ],
   "source": [
    "mean_absolute_error([1,1,2,2,3,3], [1,1,2,3,3,3])"
   ]
  },
  {
   "cell_type": "markdown",
   "metadata": {},
   "source": [
    "**Linear Rergession**"
   ]
  },
  {
   "cell_type": "code",
   "execution_count": 3,
   "metadata": {},
   "outputs": [
    {
     "name": "stdout",
     "output_type": "stream",
     "text": [
      "La mean square error és: 32378172543.98015\n",
      "La mean absolute error és 122536.78859806526\n"
     ]
    }
   ],
   "source": [
    "modelLR = LinearRegression()\n",
    "modelLR.fit(x_train, y_train)  # Entrena el model\n",
    "y_pred = modelLR.predict(x_test)  # Prediu el resultat\n",
    "\n",
    "print(\"La mean square error és: \" + str(mean_squared_error(y_test, y_pred)))\n",
    "print(\"La mean absolute error és \" + str(mean_absolute_error(y_test, y_pred)))"
   ]
  },
  {
   "cell_type": "markdown",
   "metadata": {},
   "source": [
    "**Decision Tree Regression**"
   ]
  },
  {
   "cell_type": "code",
   "execution_count": 4,
   "metadata": {},
   "outputs": [
    {
     "name": "stdout",
     "output_type": "stream",
     "text": [
      "La mean square error és: 27516041228.773525\n",
      "La mean absolute error és: 101564.74230819785\n"
     ]
    }
   ],
   "source": [
    "modelDTR = DecisionTreeRegressor(max_depth=10)\n",
    "modelDTR.fit(x_train, y_train)\n",
    "y_pred = modelDTR.predict(x_test)\n",
    "\n",
    "print(\"La mean square error és: \" + str(mean_squared_error(y_test, y_pred)))\n",
    "print(\"La mean absolute error és: \" + str(mean_absolute_error(y_test, y_pred)))"
   ]
  },
  {
   "cell_type": "markdown",
   "metadata": {},
   "source": [
    "**Random Forest**"
   ]
  },
  {
   "cell_type": "code",
   "execution_count": null,
   "metadata": {},
   "outputs": [
    {
     "name": "stdout",
     "output_type": "stream",
     "text": [
      "La mean square error és: 18757375453.621403\n",
      "La mean absolute error és 81695.55246991392\n"
     ]
    }
   ],
   "source": [
    "modelRF = RandomForestRegressor(n_estimators=100)\n",
    "modelRF.fit(x_train, y_train)\n",
    "y_pred = modelRF.predict(x_test)\n",
    "\n",
    "print(\"La mean square error és: \" + str(mean_squared_error(y_test, y_pred)))\n",
    "print(\"La mean absolute error és \" + str(mean_absolute_error(y_test, y_pred)))"
   ]
  },
  {
   "cell_type": "code",
   "execution_count": 6,
   "metadata": {},
   "outputs": [
    {
     "data": {
      "text/plain": [
       "0         160000.0\n",
       "1         225000.0\n",
       "2         362990.0\n",
       "3         743500.0\n",
       "4          49000.0\n",
       "           ...    \n",
       "26851     169900.0\n",
       "26852    1250000.0\n",
       "26853    1800000.0\n",
       "26854    1025000.0\n",
       "26855     358205.0\n",
       "Name: Listing.Price.ClosePrice, Length: 26856, dtype: float64"
      ]
     },
     "execution_count": 6,
     "metadata": {},
     "output_type": "execute_result"
    }
   ],
   "source": [
    "y_test"
   ]
  },
  {
   "cell_type": "code",
   "execution_count": 7,
   "metadata": {},
   "outputs": [
    {
     "data": {
      "text/plain": [
       "array([155100.        , 249540.        , 305308.66666667, ...,\n",
       "       211350.        , 232715.        , 322537.9       ])"
      ]
     },
     "execution_count": 7,
     "metadata": {},
     "output_type": "execute_result"
    }
   ],
   "source": [
    "y_pred"
   ]
  }
 ],
 "metadata": {
  "kernelspec": {
   "display_name": "Python 3",
   "language": "python",
   "name": "python3"
  },
  "language_info": {
   "codemirror_mode": {
    "name": "ipython",
    "version": 3
   },
   "file_extension": ".py",
   "mimetype": "text/x-python",
   "name": "python",
   "nbconvert_exporter": "python",
   "pygments_lexer": "ipython3",
   "version": "3.12.3"
  }
 },
 "nbformat": 4,
 "nbformat_minor": 2
}
