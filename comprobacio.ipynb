{
 "cells": [
  {
   "cell_type": "markdown",
   "metadata": {},
   "source": [
    "**Creació dels arrays de test i fit**"
   ]
  },
  {
   "cell_type": "code",
   "execution_count": null,
   "metadata": {},
   "outputs": [],
   "source": [
    "import pandas as pd\n",
    "from sklearn.linear_model import LinearRegression\n",
    "from sklearn.preprocessing import PolynomialFeatures\n",
    "from sklearn.linear_model import LinearRegression\n",
    "from sklearn.tree import DecisionTreeRegressor\n",
    "from sklearn.ensemble import RandomForestRegressor\n",
    "from sklearn.neighbors import KNeighborsRegressor\n",
    "from tensorflow.keras.models import Sequential\n",
    "from tensorflow.keras.layers import Dense\n",
    "\n",
    "Train = pd.read_csv(\"train_final.csv\", low_memory=False)\n",
    "y_train = Train.iloc[:, 12] # preu dels train\n",
    "x_train = Train.drop(Train.columns[12], axis=1) # valors excepte el train \n",
    "\n",
    "Test = pd.read_csv(\"test_final.csv\", low_memory=False)\n",
    "x_test = Test.drop(Test.columns[12], axis=1) # valors except el preu del test\n",
    "y_test = Test.iloc[:, 12] #preu dels train"
   ]
  },
  {
   "cell_type": "markdown",
   "metadata": {},
   "source": [
    "**Funció per comprovar la precisió de les prediccions**"
   ]
  },
  {
   "cell_type": "code",
   "execution_count": 54,
   "metadata": {},
   "outputs": [],
   "source": [
    "def check_precision_MAE(prediccio, resultat):\n",
    "    parelles = zip(prediccio, resultat)\n",
    "    sumatori = 0\n",
    "    for pred, resul in parelles:\n",
    "        sumatori += abs(pred-resul)\n",
    "    return sumatori / len(prediccio)\n",
    "\n",
    "def check_precision_MSE(prediccio, resultat):\n",
    "    parelles = zip(prediccio, resultat)\n",
    "    sumatori = 0\n",
    "    for pred, resul in parelles:\n",
    "        sumatori += (pred - resul)**2\n",
    "    return sumatori / len(prediccio)\n"
   ]
  },
  {
   "cell_type": "code",
   "execution_count": 55,
   "metadata": {},
   "outputs": [
    {
     "data": {
      "text/plain": [
       "0.0"
      ]
     },
     "execution_count": 55,
     "metadata": {},
     "output_type": "execute_result"
    }
   ],
   "source": [
    "check_precision_MSE([1,1,2,2,3,3], [1,1,2,2,3,3])"
   ]
  },
  {
   "cell_type": "markdown",
   "metadata": {},
   "source": [
    "**Linear Rergession**"
   ]
  },
  {
   "cell_type": "code",
   "execution_count": 56,
   "metadata": {},
   "outputs": [
    {
     "name": "stdout",
     "output_type": "stream",
     "text": [
      "La mean square error és: 0.00821144690729602\n",
      "La mean absolute error és 0.00821144690729602\n"
     ]
    }
   ],
   "source": [
    "modelLR = LinearRegression()\n",
    "modelLR.fit(x_train, y_train)  # Entrena el model\n",
    "y_pred = modelLR.predict(x_test)  # Prediu el resultat\n",
    "\n",
    "print(\"La mean square error és: \" + str(check_precision_MSE(y_pred, y_test)))\n",
    "print(\"La mean absolute error és \" + str(check_precision_MSE(y_pred, y_test)))"
   ]
  },
  {
   "cell_type": "markdown",
   "metadata": {},
   "source": [
    "**Decision Tree Regression**"
   ]
  },
  {
   "cell_type": "code",
   "execution_count": null,
   "metadata": {},
   "outputs": [
    {
     "name": "stdout",
     "output_type": "stream",
     "text": [
      "La mean square error és: 0.0001263207089428229\n",
      "La mean absolute error és0.0001263207089428229\n"
     ]
    }
   ],
   "source": [
    "modelDTR = DecisionTreeRegressor(max_depth=10)\n",
    "modelDTR.fit(x_train, y_train)\n",
    "y_pred = modelDTR.predict(x_test)\n",
    "\n",
    "print(\"La mean square error és: \" + str(check_precision_MSE(y_pred, y_test)))\n",
    "print(\"La mean absolute error és\" + str(check_precision_MSE(y_pred, y_test)))"
   ]
  },
  {
   "cell_type": "markdown",
   "metadata": {},
   "source": [
    "**Random Forest**"
   ]
  },
  {
   "cell_type": "code",
   "execution_count": null,
   "metadata": {},
   "outputs": [
    {
     "name": "stdout",
     "output_type": "stream",
     "text": [
      "La mean square error és: 2.3315076816655656e-05\n",
      "La mean absolute error és 2.3315076816655656e-05\n"
     ]
    }
   ],
   "source": [
    "modelRF = RandomForestRegressor(n_estimators=100)\n",
    "modelRF.fit(x_train, y_train)\n",
    "y_pred = modelRF.predict(x_test)\n",
    "\n",
    "print(\"La mean square error és: \" + str(check_precision_MSE(y_pred, y_test)))\n",
    "print(\"La mean absolute error és \" + str(check_precision_MSE(y_pred, y_test)))"
   ]
  }
 ],
 "metadata": {
  "kernelspec": {
   "display_name": "datathon",
   "language": "python",
   "name": "python3"
  },
  "language_info": {
   "codemirror_mode": {
    "name": "ipython",
    "version": 3
   },
   "file_extension": ".py",
   "mimetype": "text/x-python",
   "name": "python",
   "nbconvert_exporter": "python",
   "pygments_lexer": "ipython3",
   "version": "3.10.13"
  }
 },
 "nbformat": 4,
 "nbformat_minor": 2
}
